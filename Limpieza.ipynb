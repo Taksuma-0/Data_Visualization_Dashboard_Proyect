{
 "cells": [
  {
   "cell_type": "markdown",
   "id": "0457d0e1",
   "metadata": {},
   "source": [
    "## Limpieza General del Dataset\n",
    "\n",
    "En el siguiete archivo haremos una cierta limpieza al dataset \"Chicago_Crimes_2012_to_2017.csv\", esto para que al moemnto de trabajarlo dentro de la pagina sea mas optimo"
   ]
  },
  {
   "cell_type": "code",
   "execution_count": 3,
   "id": "a9304e29",
   "metadata": {},
   "outputs": [],
   "source": [
    "import pandas as pd"
   ]
  },
  {
   "cell_type": "code",
   "execution_count": 2,
   "id": "cda7cd50",
   "metadata": {},
   "outputs": [],
   "source": [
    "df = pd.read_csv(\"Chicago_Crimes_2012_to_2017.csv\")"
   ]
  },
  {
   "cell_type": "markdown",
   "id": "5c30182a",
   "metadata": {},
   "source": [
    "Visualización previa de datos para entendimiento de su estructura y cantidad de datos\n"
   ]
  },
  {
   "cell_type": "code",
   "execution_count": 6,
   "id": "e832bd7b",
   "metadata": {},
   "outputs": [
    {
     "data": {
      "text/plain": [
       "(1456714, 23)"
      ]
     },
     "execution_count": 6,
     "metadata": {},
     "output_type": "execute_result"
    }
   ],
   "source": [
    "df.shape"
   ]
  },
  {
   "cell_type": "code",
   "execution_count": 3,
   "id": "d9bc8495",
   "metadata": {},
   "outputs": [
    {
     "data": {
      "text/html": [
       "<div>\n",
       "<style scoped>\n",
       "    .dataframe tbody tr th:only-of-type {\n",
       "        vertical-align: middle;\n",
       "    }\n",
       "\n",
       "    .dataframe tbody tr th {\n",
       "        vertical-align: top;\n",
       "    }\n",
       "\n",
       "    .dataframe thead th {\n",
       "        text-align: right;\n",
       "    }\n",
       "</style>\n",
       "<table border=\"1\" class=\"dataframe\">\n",
       "  <thead>\n",
       "    <tr style=\"text-align: right;\">\n",
       "      <th></th>\n",
       "      <th>Unnamed: 0</th>\n",
       "      <th>ID</th>\n",
       "      <th>Case Number</th>\n",
       "      <th>Date</th>\n",
       "      <th>Block</th>\n",
       "      <th>IUCR</th>\n",
       "      <th>Primary Type</th>\n",
       "      <th>Description</th>\n",
       "      <th>Location Description</th>\n",
       "      <th>Arrest</th>\n",
       "      <th>...</th>\n",
       "      <th>Ward</th>\n",
       "      <th>Community Area</th>\n",
       "      <th>FBI Code</th>\n",
       "      <th>X Coordinate</th>\n",
       "      <th>Y Coordinate</th>\n",
       "      <th>Year</th>\n",
       "      <th>Updated On</th>\n",
       "      <th>Latitude</th>\n",
       "      <th>Longitude</th>\n",
       "      <th>Location</th>\n",
       "    </tr>\n",
       "  </thead>\n",
       "  <tbody>\n",
       "    <tr>\n",
       "      <th>0</th>\n",
       "      <td>3</td>\n",
       "      <td>10508693</td>\n",
       "      <td>HZ250496</td>\n",
       "      <td>05/03/2016 11:40:00 PM</td>\n",
       "      <td>013XX S SAWYER AVE</td>\n",
       "      <td>0486</td>\n",
       "      <td>BATTERY</td>\n",
       "      <td>DOMESTIC BATTERY SIMPLE</td>\n",
       "      <td>APARTMENT</td>\n",
       "      <td>True</td>\n",
       "      <td>...</td>\n",
       "      <td>24.0</td>\n",
       "      <td>29.0</td>\n",
       "      <td>08B</td>\n",
       "      <td>1154907.0</td>\n",
       "      <td>1893681.0</td>\n",
       "      <td>2016</td>\n",
       "      <td>05/10/2016 03:56:50 PM</td>\n",
       "      <td>41.864073</td>\n",
       "      <td>-87.706819</td>\n",
       "      <td>(41.864073157, -87.706818608)</td>\n",
       "    </tr>\n",
       "    <tr>\n",
       "      <th>1</th>\n",
       "      <td>89</td>\n",
       "      <td>10508695</td>\n",
       "      <td>HZ250409</td>\n",
       "      <td>05/03/2016 09:40:00 PM</td>\n",
       "      <td>061XX S DREXEL AVE</td>\n",
       "      <td>0486</td>\n",
       "      <td>BATTERY</td>\n",
       "      <td>DOMESTIC BATTERY SIMPLE</td>\n",
       "      <td>RESIDENCE</td>\n",
       "      <td>False</td>\n",
       "      <td>...</td>\n",
       "      <td>20.0</td>\n",
       "      <td>42.0</td>\n",
       "      <td>08B</td>\n",
       "      <td>1183066.0</td>\n",
       "      <td>1864330.0</td>\n",
       "      <td>2016</td>\n",
       "      <td>05/10/2016 03:56:50 PM</td>\n",
       "      <td>41.782922</td>\n",
       "      <td>-87.604363</td>\n",
       "      <td>(41.782921527, -87.60436317)</td>\n",
       "    </tr>\n",
       "    <tr>\n",
       "      <th>2</th>\n",
       "      <td>197</td>\n",
       "      <td>10508697</td>\n",
       "      <td>HZ250503</td>\n",
       "      <td>05/03/2016 11:31:00 PM</td>\n",
       "      <td>053XX W CHICAGO AVE</td>\n",
       "      <td>0470</td>\n",
       "      <td>PUBLIC PEACE VIOLATION</td>\n",
       "      <td>RECKLESS CONDUCT</td>\n",
       "      <td>STREET</td>\n",
       "      <td>False</td>\n",
       "      <td>...</td>\n",
       "      <td>37.0</td>\n",
       "      <td>25.0</td>\n",
       "      <td>24</td>\n",
       "      <td>1140789.0</td>\n",
       "      <td>1904819.0</td>\n",
       "      <td>2016</td>\n",
       "      <td>05/10/2016 03:56:50 PM</td>\n",
       "      <td>41.894908</td>\n",
       "      <td>-87.758372</td>\n",
       "      <td>(41.894908283, -87.758371958)</td>\n",
       "    </tr>\n",
       "    <tr>\n",
       "      <th>3</th>\n",
       "      <td>673</td>\n",
       "      <td>10508698</td>\n",
       "      <td>HZ250424</td>\n",
       "      <td>05/03/2016 10:10:00 PM</td>\n",
       "      <td>049XX W FULTON ST</td>\n",
       "      <td>0460</td>\n",
       "      <td>BATTERY</td>\n",
       "      <td>SIMPLE</td>\n",
       "      <td>SIDEWALK</td>\n",
       "      <td>False</td>\n",
       "      <td>...</td>\n",
       "      <td>28.0</td>\n",
       "      <td>25.0</td>\n",
       "      <td>08B</td>\n",
       "      <td>1143223.0</td>\n",
       "      <td>1901475.0</td>\n",
       "      <td>2016</td>\n",
       "      <td>05/10/2016 03:56:50 PM</td>\n",
       "      <td>41.885687</td>\n",
       "      <td>-87.749516</td>\n",
       "      <td>(41.885686845, -87.749515983)</td>\n",
       "    </tr>\n",
       "    <tr>\n",
       "      <th>4</th>\n",
       "      <td>911</td>\n",
       "      <td>10508699</td>\n",
       "      <td>HZ250455</td>\n",
       "      <td>05/03/2016 10:00:00 PM</td>\n",
       "      <td>003XX N LOTUS AVE</td>\n",
       "      <td>0820</td>\n",
       "      <td>THEFT</td>\n",
       "      <td>$500 AND UNDER</td>\n",
       "      <td>RESIDENCE</td>\n",
       "      <td>False</td>\n",
       "      <td>...</td>\n",
       "      <td>28.0</td>\n",
       "      <td>25.0</td>\n",
       "      <td>06</td>\n",
       "      <td>1139890.0</td>\n",
       "      <td>1901675.0</td>\n",
       "      <td>2016</td>\n",
       "      <td>05/10/2016 03:56:50 PM</td>\n",
       "      <td>41.886297</td>\n",
       "      <td>-87.761751</td>\n",
       "      <td>(41.886297242, -87.761750709)</td>\n",
       "    </tr>\n",
       "  </tbody>\n",
       "</table>\n",
       "<p>5 rows × 23 columns</p>\n",
       "</div>"
      ],
      "text/plain": [
       "   Unnamed: 0        ID Case Number                    Date  \\\n",
       "0           3  10508693    HZ250496  05/03/2016 11:40:00 PM   \n",
       "1          89  10508695    HZ250409  05/03/2016 09:40:00 PM   \n",
       "2         197  10508697    HZ250503  05/03/2016 11:31:00 PM   \n",
       "3         673  10508698    HZ250424  05/03/2016 10:10:00 PM   \n",
       "4         911  10508699    HZ250455  05/03/2016 10:00:00 PM   \n",
       "\n",
       "                 Block  IUCR            Primary Type              Description  \\\n",
       "0   013XX S SAWYER AVE  0486                 BATTERY  DOMESTIC BATTERY SIMPLE   \n",
       "1   061XX S DREXEL AVE  0486                 BATTERY  DOMESTIC BATTERY SIMPLE   \n",
       "2  053XX W CHICAGO AVE  0470  PUBLIC PEACE VIOLATION         RECKLESS CONDUCT   \n",
       "3    049XX W FULTON ST  0460                 BATTERY                   SIMPLE   \n",
       "4    003XX N LOTUS AVE  0820                   THEFT           $500 AND UNDER   \n",
       "\n",
       "  Location Description  Arrest  ...  Ward  Community Area  FBI Code  \\\n",
       "0            APARTMENT    True  ...  24.0            29.0       08B   \n",
       "1            RESIDENCE   False  ...  20.0            42.0       08B   \n",
       "2               STREET   False  ...  37.0            25.0        24   \n",
       "3             SIDEWALK   False  ...  28.0            25.0       08B   \n",
       "4            RESIDENCE   False  ...  28.0            25.0        06   \n",
       "\n",
       "   X Coordinate  Y Coordinate  Year              Updated On   Latitude  \\\n",
       "0     1154907.0     1893681.0  2016  05/10/2016 03:56:50 PM  41.864073   \n",
       "1     1183066.0     1864330.0  2016  05/10/2016 03:56:50 PM  41.782922   \n",
       "2     1140789.0     1904819.0  2016  05/10/2016 03:56:50 PM  41.894908   \n",
       "3     1143223.0     1901475.0  2016  05/10/2016 03:56:50 PM  41.885687   \n",
       "4     1139890.0     1901675.0  2016  05/10/2016 03:56:50 PM  41.886297   \n",
       "\n",
       "   Longitude                       Location  \n",
       "0 -87.706819  (41.864073157, -87.706818608)  \n",
       "1 -87.604363   (41.782921527, -87.60436317)  \n",
       "2 -87.758372  (41.894908283, -87.758371958)  \n",
       "3 -87.749516  (41.885686845, -87.749515983)  \n",
       "4 -87.761751  (41.886297242, -87.761750709)  \n",
       "\n",
       "[5 rows x 23 columns]"
      ]
     },
     "execution_count": 3,
     "metadata": {},
     "output_type": "execute_result"
    }
   ],
   "source": [
    "df.head()"
   ]
  },
  {
   "cell_type": "code",
   "execution_count": 4,
   "id": "97c9ab30",
   "metadata": {},
   "outputs": [
    {
     "name": "stdout",
     "output_type": "stream",
     "text": [
      "<class 'pandas.core.frame.DataFrame'>\n",
      "RangeIndex: 1456714 entries, 0 to 1456713\n",
      "Data columns (total 23 columns):\n",
      " #   Column                Non-Null Count    Dtype  \n",
      "---  ------                --------------    -----  \n",
      " 0   Unnamed: 0            1456714 non-null  int64  \n",
      " 1   ID                    1456714 non-null  int64  \n",
      " 2   Case Number           1456713 non-null  object \n",
      " 3   Date                  1456714 non-null  object \n",
      " 4   Block                 1456714 non-null  object \n",
      " 5   IUCR                  1456714 non-null  object \n",
      " 6   Primary Type          1456714 non-null  object \n",
      " 7   Description           1456714 non-null  object \n",
      " 8   Location Description  1455056 non-null  object \n",
      " 9   Arrest                1456714 non-null  bool   \n",
      " 10  Domestic              1456714 non-null  bool   \n",
      " 11  Beat                  1456714 non-null  int64  \n",
      " 12  District              1456713 non-null  float64\n",
      " 13  Ward                  1456700 non-null  float64\n",
      " 14  Community Area        1456674 non-null  float64\n",
      " 15  FBI Code              1456714 non-null  object \n",
      " 16  X Coordinate          1419631 non-null  float64\n",
      " 17  Y Coordinate          1419631 non-null  float64\n",
      " 18  Year                  1456714 non-null  int64  \n",
      " 19  Updated On            1456714 non-null  object \n",
      " 20  Latitude              1419631 non-null  float64\n",
      " 21  Longitude             1419631 non-null  float64\n",
      " 22  Location              1419631 non-null  object \n",
      "dtypes: bool(2), float64(7), int64(4), object(10)\n",
      "memory usage: 236.2+ MB\n"
     ]
    }
   ],
   "source": [
    "df.info()"
   ]
  },
  {
   "cell_type": "markdown",
   "id": "d5970e16",
   "metadata": {},
   "source": [
    "## Limpieza de datos para su posterior uso"
   ]
  },
  {
   "cell_type": "markdown",
   "id": "8f03facf",
   "metadata": {},
   "source": [
    "Primero eliminamos filas donde latitud o longitud sean nulos, esto para las vizualisaciones espaciales\n"
   ]
  },
  {
   "cell_type": "code",
   "execution_count": 7,
   "id": "f8014423",
   "metadata": {},
   "outputs": [],
   "source": [
    "df.dropna(subset=['Latitude', 'Longitude'], inplace=True)"
   ]
  },
  {
   "cell_type": "code",
   "execution_count": 8,
   "id": "76ee5f83",
   "metadata": {},
   "outputs": [
    {
     "data": {
      "text/plain": [
       "(1419631, 23)"
      ]
     },
     "execution_count": 8,
     "metadata": {},
     "output_type": "execute_result"
    }
   ],
   "source": [
    "df.shape"
   ]
  },
  {
   "cell_type": "markdown",
   "id": "fb3d1cac",
   "metadata": {},
   "source": [
    "Convertimos la columana \"Date\" de object a datatime de pandas, esto mas que nada para que sea mas facil el trabajo de visualización"
   ]
  },
  {
   "cell_type": "code",
   "execution_count": null,
   "id": "b7a627cf",
   "metadata": {},
   "outputs": [],
   "source": [
    "# Convertimos la columna 'Date' al formato datetime\n",
    "df['Date'] = pd.to_datetime(df['Date'], format='%m/%d/%Y %I:%M:%S %p')\n",
    "df['Hour'] = df['Date'].dt.hour\n",
    "df['Month'] = df['Date'].dt.month\n",
    "df['DayOfWeek'] = df['Date'].dt.day_name()"
   ]
  },
  {
   "cell_type": "code",
   "execution_count": 11,
   "id": "23374208",
   "metadata": {},
   "outputs": [
    {
     "data": {
      "text/plain": [
       "<bound method DataFrame.info of          Unnamed: 0        ID Case Number                Date  \\\n",
       "0                 3  10508693    HZ250496 2016-05-03 23:40:00   \n",
       "1                89  10508695    HZ250409 2016-05-03 21:40:00   \n",
       "2               197  10508697    HZ250503 2016-05-03 23:31:00   \n",
       "3               673  10508698    HZ250424 2016-05-03 22:10:00   \n",
       "4               911  10508699    HZ250455 2016-05-03 22:00:00   \n",
       "...             ...       ...         ...                 ...   \n",
       "1456709     6250330  10508679    HZ250507 2016-05-03 23:33:00   \n",
       "1456710     6251089  10508680    HZ250491 2016-05-03 23:30:00   \n",
       "1456711     6251349  10508681    HZ250479 2016-05-03 00:15:00   \n",
       "1456712     6253257  10508690    HZ250370 2016-05-03 21:07:00   \n",
       "1456713     6253474  10508692    HZ250517 2016-05-03 23:38:00   \n",
       "\n",
       "                        Block  IUCR            Primary Type  \\\n",
       "0          013XX S SAWYER AVE  0486                 BATTERY   \n",
       "1          061XX S DREXEL AVE  0486                 BATTERY   \n",
       "2         053XX W CHICAGO AVE  0470  PUBLIC PEACE VIOLATION   \n",
       "3           049XX W FULTON ST  0460                 BATTERY   \n",
       "4           003XX N LOTUS AVE  0820                   THEFT   \n",
       "...                       ...   ...                     ...   \n",
       "1456709       026XX W 23RD PL  0486                 BATTERY   \n",
       "1456710   073XX S HARVARD AVE  1310         CRIMINAL DAMAGE   \n",
       "1456711       024XX W 63RD ST  041A                 BATTERY   \n",
       "1456712  082XX S EXCHANGE AVE  0486                 BATTERY   \n",
       "1456713       001XX E 75TH ST  5007           OTHER OFFENSE   \n",
       "\n",
       "                     Description            Location Description  Arrest  ...  \\\n",
       "0        DOMESTIC BATTERY SIMPLE                       APARTMENT    True  ...   \n",
       "1        DOMESTIC BATTERY SIMPLE                       RESIDENCE   False  ...   \n",
       "2               RECKLESS CONDUCT                          STREET   False  ...   \n",
       "3                         SIMPLE                        SIDEWALK   False  ...   \n",
       "4                 $500 AND UNDER                       RESIDENCE   False  ...   \n",
       "...                          ...                             ...     ...  ...   \n",
       "1456709  DOMESTIC BATTERY SIMPLE                       APARTMENT    True  ...   \n",
       "1456710              TO PROPERTY                       APARTMENT    True  ...   \n",
       "1456711      AGGRAVATED: HANDGUN                        SIDEWALK   False  ...   \n",
       "1456712  DOMESTIC BATTERY SIMPLE                        SIDEWALK   False  ...   \n",
       "1456713  OTHER WEAPONS VIOLATION  PARKING LOT/GARAGE(NON.RESID.)    True  ...   \n",
       "\n",
       "         X Coordinate  Y Coordinate  Year              Updated On   Latitude  \\\n",
       "0           1154907.0     1893681.0  2016  05/10/2016 03:56:50 PM  41.864073   \n",
       "1           1183066.0     1864330.0  2016  05/10/2016 03:56:50 PM  41.782922   \n",
       "2           1140789.0     1904819.0  2016  05/10/2016 03:56:50 PM  41.894908   \n",
       "3           1143223.0     1901475.0  2016  05/10/2016 03:56:50 PM  41.885687   \n",
       "4           1139890.0     1901675.0  2016  05/10/2016 03:56:50 PM  41.886297   \n",
       "...               ...           ...   ...                     ...        ...   \n",
       "1456709     1159105.0     1888300.0  2016  05/10/2016 03:56:50 PM  41.849222   \n",
       "1456710     1175230.0     1856183.0  2016  05/10/2016 03:56:50 PM  41.760744   \n",
       "1456711     1161027.0     1862810.0  2016  05/10/2016 03:56:50 PM  41.779235   \n",
       "1456712     1197261.0     1850727.0  2016  05/10/2016 03:56:50 PM  41.745252   \n",
       "1456713     1178696.0     1855324.0  2016  05/10/2016 03:56:50 PM  41.758309   \n",
       "\n",
       "         Longitude                       Location  Hour  Month DayOfWeek  \n",
       "0       -87.706819  (41.864073157, -87.706818608)    23      5   Tuesday  \n",
       "1       -87.604363   (41.782921527, -87.60436317)    21      5   Tuesday  \n",
       "2       -87.758372  (41.894908283, -87.758371958)    23      5   Tuesday  \n",
       "3       -87.749516  (41.885686845, -87.749515983)    22      5   Tuesday  \n",
       "4       -87.761751  (41.886297242, -87.761750709)    22      5   Tuesday  \n",
       "...            ...                            ...   ...    ...       ...  \n",
       "1456709 -87.691556   (41.849222028, -87.69155551)    23      5   Tuesday  \n",
       "1456710 -87.633335   (41.760743949, -87.63333531)    23      5   Tuesday  \n",
       "1456711 -87.685207  (41.779234743, -87.685207125)     0      5   Tuesday  \n",
       "1456712 -87.552773  (41.745251975, -87.552773464)    21      5   Tuesday  \n",
       "1456713 -87.620658   (41.75830866, -87.620658418)    23      5   Tuesday  \n",
       "\n",
       "[1419631 rows x 26 columns]>"
      ]
     },
     "execution_count": 11,
     "metadata": {},
     "output_type": "execute_result"
    }
   ],
   "source": [
    "df.info"
   ]
  },
  {
   "cell_type": "markdown",
   "id": "db5d79ea",
   "metadata": {},
   "source": [
    "Procedemos a eliminar algunas columnas (variables) que no utilizaremos, esto para un trabajo mas eficiente al momento de visualizar"
   ]
  },
  {
   "cell_type": "code",
   "execution_count": null,
   "id": "28d6f68f",
   "metadata": {},
   "outputs": [],
   "source": [
    "# Columnas que son IDs, códigos o redundantes con otras\n",
    "columnas_a_eliminar = [\n",
    "    'Unnamed: 0', 'IUCR', 'FBI Code', \n",
    "    'Updated On', 'X Coordinate', 'Y Coordinate'\n",
    "]\n",
    "df.drop(columns=columnas_a_eliminar, inplace=True)"
   ]
  },
  {
   "cell_type": "code",
   "execution_count": 15,
   "id": "fe00d8f4",
   "metadata": {},
   "outputs": [
    {
     "data": {
      "text/plain": [
       "(1419631, 20)"
      ]
     },
     "execution_count": 15,
     "metadata": {},
     "output_type": "execute_result"
    }
   ],
   "source": [
    "df.shape"
   ]
  },
  {
   "cell_type": "markdown",
   "id": "7b2f7f96",
   "metadata": {},
   "source": [
    "Ahora procedemos a guardar este df (DataFrame) como parquet (permite ser un archivo mas ligero y rapido) ya listo para visualizar"
   ]
  },
  {
   "cell_type": "code",
   "execution_count": null,
   "id": "7ef4b28b",
   "metadata": {},
   "outputs": [],
   "source": [
    "df.to_parquet('crimes_cleaned.parquet') "
   ]
  }
 ],
 "metadata": {
  "kernelspec": {
   "display_name": "base",
   "language": "python",
   "name": "python3"
  },
  "language_info": {
   "codemirror_mode": {
    "name": "ipython",
    "version": 3
   },
   "file_extension": ".py",
   "mimetype": "text/x-python",
   "name": "python",
   "nbconvert_exporter": "python",
   "pygments_lexer": "ipython3",
   "version": "3.12.3"
  }
 },
 "nbformat": 4,
 "nbformat_minor": 5
}
